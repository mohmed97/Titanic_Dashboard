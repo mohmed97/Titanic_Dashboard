{
 "cells": [
  {
   "cell_type": "markdown",
   "metadata": {},
   "source": [
    "## Important Libraries"
   ]
  },
  {
   "cell_type": "code",
   "execution_count": 1,
   "metadata": {
    "scrolled": true
   },
   "outputs": [
    {
     "name": "stderr",
     "output_type": "stream",
     "text": [
      "<ipython-input-1-d706ec01c456>:3: UserWarning: \n",
      "The dash_core_components package is deprecated. Please replace\n",
      "`import dash_core_components as dcc` with `from dash import dcc`\n",
      "  import dash_core_components as dcc\n",
      "<ipython-input-1-d706ec01c456>:4: UserWarning: \n",
      "The dash_html_components package is deprecated. Please replace\n",
      "`import dash_html_components as html` with `from dash import html`\n",
      "  import dash_html_components as html\n"
     ]
    }
   ],
   "source": [
    "import dash\n",
    "from jupyter_dash import JupyterDash\n",
    "import dash_core_components as dcc\n",
    "import dash_html_components as html\n",
    "from dash.dependencies import Input, Output\n",
    "import plotly.express as px\n",
    "import pandas as pd"
   ]
  },
  {
   "cell_type": "code",
   "execution_count": 2,
   "metadata": {},
   "outputs": [],
   "source": [
    "import numpy as np"
   ]
  },
  {
   "cell_type": "markdown",
   "metadata": {},
   "source": [
    "## Read DataSet"
   ]
  },
  {
   "cell_type": "code",
   "execution_count": 3,
   "metadata": {},
   "outputs": [
    {
     "data": {
      "text/html": [
       "<div>\n",
       "<style scoped>\n",
       "    .dataframe tbody tr th:only-of-type {\n",
       "        vertical-align: middle;\n",
       "    }\n",
       "\n",
       "    .dataframe tbody tr th {\n",
       "        vertical-align: top;\n",
       "    }\n",
       "\n",
       "    .dataframe thead th {\n",
       "        text-align: right;\n",
       "    }\n",
       "</style>\n",
       "<table border=\"1\" class=\"dataframe\">\n",
       "  <thead>\n",
       "    <tr style=\"text-align: right;\">\n",
       "      <th></th>\n",
       "      <th>PassengerId</th>\n",
       "      <th>Survived</th>\n",
       "      <th>Pclass</th>\n",
       "      <th>Name</th>\n",
       "      <th>Sex</th>\n",
       "      <th>Age</th>\n",
       "      <th>SibSp</th>\n",
       "      <th>Parch</th>\n",
       "      <th>Ticket</th>\n",
       "      <th>Fare</th>\n",
       "      <th>Cabin</th>\n",
       "      <th>Embarked</th>\n",
       "    </tr>\n",
       "  </thead>\n",
       "  <tbody>\n",
       "    <tr>\n",
       "      <th>0</th>\n",
       "      <td>1</td>\n",
       "      <td>0</td>\n",
       "      <td>3</td>\n",
       "      <td>Braund, Mr. Owen Harris</td>\n",
       "      <td>male</td>\n",
       "      <td>22.0</td>\n",
       "      <td>1</td>\n",
       "      <td>0</td>\n",
       "      <td>A/5 21171</td>\n",
       "      <td>7.2500</td>\n",
       "      <td>NaN</td>\n",
       "      <td>S</td>\n",
       "    </tr>\n",
       "    <tr>\n",
       "      <th>1</th>\n",
       "      <td>2</td>\n",
       "      <td>1</td>\n",
       "      <td>1</td>\n",
       "      <td>Cumings, Mrs. John Bradley (Florence Briggs Th...</td>\n",
       "      <td>female</td>\n",
       "      <td>38.0</td>\n",
       "      <td>1</td>\n",
       "      <td>0</td>\n",
       "      <td>PC 17599</td>\n",
       "      <td>71.2833</td>\n",
       "      <td>C85</td>\n",
       "      <td>C</td>\n",
       "    </tr>\n",
       "    <tr>\n",
       "      <th>2</th>\n",
       "      <td>3</td>\n",
       "      <td>1</td>\n",
       "      <td>3</td>\n",
       "      <td>Heikkinen, Miss. Laina</td>\n",
       "      <td>female</td>\n",
       "      <td>26.0</td>\n",
       "      <td>0</td>\n",
       "      <td>0</td>\n",
       "      <td>STON/O2. 3101282</td>\n",
       "      <td>7.9250</td>\n",
       "      <td>NaN</td>\n",
       "      <td>S</td>\n",
       "    </tr>\n",
       "    <tr>\n",
       "      <th>3</th>\n",
       "      <td>4</td>\n",
       "      <td>1</td>\n",
       "      <td>1</td>\n",
       "      <td>Futrelle, Mrs. Jacques Heath (Lily May Peel)</td>\n",
       "      <td>female</td>\n",
       "      <td>35.0</td>\n",
       "      <td>1</td>\n",
       "      <td>0</td>\n",
       "      <td>113803</td>\n",
       "      <td>53.1000</td>\n",
       "      <td>C123</td>\n",
       "      <td>S</td>\n",
       "    </tr>\n",
       "    <tr>\n",
       "      <th>4</th>\n",
       "      <td>5</td>\n",
       "      <td>0</td>\n",
       "      <td>3</td>\n",
       "      <td>Allen, Mr. William Henry</td>\n",
       "      <td>male</td>\n",
       "      <td>35.0</td>\n",
       "      <td>0</td>\n",
       "      <td>0</td>\n",
       "      <td>373450</td>\n",
       "      <td>8.0500</td>\n",
       "      <td>NaN</td>\n",
       "      <td>S</td>\n",
       "    </tr>\n",
       "  </tbody>\n",
       "</table>\n",
       "</div>"
      ],
      "text/plain": [
       "   PassengerId  Survived  Pclass  \\\n",
       "0            1         0       3   \n",
       "1            2         1       1   \n",
       "2            3         1       3   \n",
       "3            4         1       1   \n",
       "4            5         0       3   \n",
       "\n",
       "                                                Name     Sex   Age  SibSp  \\\n",
       "0                            Braund, Mr. Owen Harris    male  22.0      1   \n",
       "1  Cumings, Mrs. John Bradley (Florence Briggs Th...  female  38.0      1   \n",
       "2                             Heikkinen, Miss. Laina  female  26.0      0   \n",
       "3       Futrelle, Mrs. Jacques Heath (Lily May Peel)  female  35.0      1   \n",
       "4                           Allen, Mr. William Henry    male  35.0      0   \n",
       "\n",
       "   Parch            Ticket     Fare Cabin Embarked  \n",
       "0      0         A/5 21171   7.2500   NaN        S  \n",
       "1      0          PC 17599  71.2833   C85        C  \n",
       "2      0  STON/O2. 3101282   7.9250   NaN        S  \n",
       "3      0            113803  53.1000  C123        S  \n",
       "4      0            373450   8.0500   NaN        S  "
      ]
     },
     "execution_count": 3,
     "metadata": {},
     "output_type": "execute_result"
    }
   ],
   "source": [
    "train_df = pd.read_csv('train.csv')\n",
    "train_df.head(5)"
   ]
  },
  {
   "cell_type": "markdown",
   "metadata": {},
   "source": [
    "## Describing data"
   ]
  },
  {
   "cell_type": "code",
   "execution_count": 4,
   "metadata": {},
   "outputs": [
    {
     "name": "stdout",
     "output_type": "stream",
     "text": [
      "<class 'pandas.core.frame.DataFrame'>\n",
      "RangeIndex: 891 entries, 0 to 890\n",
      "Data columns (total 12 columns):\n",
      " #   Column       Non-Null Count  Dtype  \n",
      "---  ------       --------------  -----  \n",
      " 0   PassengerId  891 non-null    int64  \n",
      " 1   Survived     891 non-null    int64  \n",
      " 2   Pclass       891 non-null    int64  \n",
      " 3   Name         891 non-null    object \n",
      " 4   Sex          891 non-null    object \n",
      " 5   Age          714 non-null    float64\n",
      " 6   SibSp        891 non-null    int64  \n",
      " 7   Parch        891 non-null    int64  \n",
      " 8   Ticket       891 non-null    object \n",
      " 9   Fare         891 non-null    float64\n",
      " 10  Cabin        204 non-null    object \n",
      " 11  Embarked     889 non-null    object \n",
      "dtypes: float64(2), int64(5), object(5)\n",
      "memory usage: 83.7+ KB\n"
     ]
    }
   ],
   "source": [
    "train_df.info()"
   ]
  },
  {
   "cell_type": "markdown",
   "metadata": {},
   "source": [
    "## Preprocessing"
   ]
  },
  {
   "cell_type": "code",
   "execution_count": 5,
   "metadata": {},
   "outputs": [],
   "source": [
    "train_df['Title'] = train_df.Name.str.extract(' ([A-Za-z]+)\\.', expand=False)\n",
    "train_df['Title'] = train_df['Title'].replace(['Lady', 'Countess','Capt', 'Col',\\\n",
    "        'Don', 'Dr', 'Major', 'Rev', 'Sir', 'Jonkheer', 'Dona'], 'Rare')\n",
    "\n",
    "train_df['Title'] = train_df['Title'].replace('Mlle', 'Miss')\n",
    "train_df['Title'] = train_df['Title'].replace('Ms', 'Miss')\n",
    "train_df['Title'] = train_df['Title'].replace('Mme', 'Mrs')"
   ]
  },
  {
   "cell_type": "code",
   "execution_count": 6,
   "metadata": {},
   "outputs": [],
   "source": [
    "train_df = train_df.drop(['Name', 'PassengerId'], axis=1)"
   ]
  },
  {
   "cell_type": "code",
   "execution_count": 7,
   "metadata": {},
   "outputs": [
    {
     "data": {
      "text/html": [
       "<div>\n",
       "<style scoped>\n",
       "    .dataframe tbody tr th:only-of-type {\n",
       "        vertical-align: middle;\n",
       "    }\n",
       "\n",
       "    .dataframe tbody tr th {\n",
       "        vertical-align: top;\n",
       "    }\n",
       "\n",
       "    .dataframe thead th {\n",
       "        text-align: right;\n",
       "    }\n",
       "</style>\n",
       "<table border=\"1\" class=\"dataframe\">\n",
       "  <thead>\n",
       "    <tr style=\"text-align: right;\">\n",
       "      <th></th>\n",
       "      <th>num of missed</th>\n",
       "      <th>percent</th>\n",
       "    </tr>\n",
       "  </thead>\n",
       "  <tbody>\n",
       "    <tr>\n",
       "      <th>Cabin</th>\n",
       "      <td>687</td>\n",
       "      <td>0.771044</td>\n",
       "    </tr>\n",
       "    <tr>\n",
       "      <th>Age</th>\n",
       "      <td>177</td>\n",
       "      <td>0.198653</td>\n",
       "    </tr>\n",
       "    <tr>\n",
       "      <th>Embarked</th>\n",
       "      <td>2</td>\n",
       "      <td>0.002245</td>\n",
       "    </tr>\n",
       "    <tr>\n",
       "      <th>Title</th>\n",
       "      <td>0</td>\n",
       "      <td>0.000000</td>\n",
       "    </tr>\n",
       "    <tr>\n",
       "      <th>Fare</th>\n",
       "      <td>0</td>\n",
       "      <td>0.000000</td>\n",
       "    </tr>\n",
       "    <tr>\n",
       "      <th>Ticket</th>\n",
       "      <td>0</td>\n",
       "      <td>0.000000</td>\n",
       "    </tr>\n",
       "    <tr>\n",
       "      <th>Parch</th>\n",
       "      <td>0</td>\n",
       "      <td>0.000000</td>\n",
       "    </tr>\n",
       "    <tr>\n",
       "      <th>SibSp</th>\n",
       "      <td>0</td>\n",
       "      <td>0.000000</td>\n",
       "    </tr>\n",
       "    <tr>\n",
       "      <th>Sex</th>\n",
       "      <td>0</td>\n",
       "      <td>0.000000</td>\n",
       "    </tr>\n",
       "    <tr>\n",
       "      <th>Pclass</th>\n",
       "      <td>0</td>\n",
       "      <td>0.000000</td>\n",
       "    </tr>\n",
       "    <tr>\n",
       "      <th>Survived</th>\n",
       "      <td>0</td>\n",
       "      <td>0.000000</td>\n",
       "    </tr>\n",
       "  </tbody>\n",
       "</table>\n",
       "</div>"
      ],
      "text/plain": [
       "          num of missed   percent\n",
       "Cabin               687  0.771044\n",
       "Age                 177  0.198653\n",
       "Embarked              2  0.002245\n",
       "Title                 0  0.000000\n",
       "Fare                  0  0.000000\n",
       "Ticket                0  0.000000\n",
       "Parch                 0  0.000000\n",
       "SibSp                 0  0.000000\n",
       "Sex                   0  0.000000\n",
       "Pclass                0  0.000000\n",
       "Survived              0  0.000000"
      ]
     },
     "execution_count": 7,
     "metadata": {},
     "output_type": "execute_result"
    }
   ],
   "source": [
    "missing_train = pd.DataFrame()\n",
    "missing_train['num of missed'] = train_df.isna().sum().sort_values(ascending=False)\n",
    "missing_train['percent'] = train_df.isna().sum()/train_df.isna().count()\n",
    "missing_train"
   ]
  },
  {
   "cell_type": "code",
   "execution_count": 8,
   "metadata": {},
   "outputs": [],
   "source": [
    "# train_df['Age'].mean()"
   ]
  },
  {
   "cell_type": "code",
   "execution_count": 9,
   "metadata": {},
   "outputs": [],
   "source": [
    "train_df['Age'] = train_df['Age'].fillna(30)"
   ]
  },
  {
   "cell_type": "code",
   "execution_count": 10,
   "metadata": {},
   "outputs": [],
   "source": [
    "# train_df['Embarked'].value_counts()"
   ]
  },
  {
   "cell_type": "code",
   "execution_count": 11,
   "metadata": {},
   "outputs": [],
   "source": [
    "train_df['Embarked'] = train_df['Embarked'].fillna('S')"
   ]
  },
  {
   "cell_type": "code",
   "execution_count": 12,
   "metadata": {
    "scrolled": true
   },
   "outputs": [],
   "source": [
    "train_df.drop('Cabin',axis=1,inplace=True)"
   ]
  },
  {
   "cell_type": "code",
   "execution_count": 13,
   "metadata": {},
   "outputs": [],
   "source": [
    "total_People=len(train_df)\n",
    "total_Survived = train_df['Survived'].sum()\n",
    "total_UnSurvived = total_People - total_Survived"
   ]
  },
  {
   "cell_type": "code",
   "execution_count": 14,
   "metadata": {},
   "outputs": [],
   "source": [
    "train_df.loc[ train_df['Age'] <= 10, 'AgeBand'] = 10\n",
    "train_df.loc[(train_df['Age'] > 10) & (train_df['Age'] <= 20), 'AgeBand'] = 20\n",
    "train_df.loc[(train_df['Age'] > 20) & (train_df['Age'] <= 30), 'AgeBand'] = 30\n",
    "train_df.loc[(train_df['Age'] > 30) & (train_df['Age'] <= 40), 'AgeBand'] = 40\n",
    "train_df.loc[(train_df['Age'] > 40) & (train_df['Age'] <= 50), 'AgeBand'] = 50\n",
    "train_df.loc[(train_df['Age'] > 50) & (train_df['Age'] <= 60), 'AgeBand'] = 60\n",
    "train_df.loc[(train_df['Age'] > 60) & (train_df['Age'] <= 70), 'AgeBand'] = 70\n",
    "train_df.loc[(train_df['Age'] > 70) & (train_df['Age'] <= 80), 'AgeBand'] = 80\n",
    "train_df.loc[ train_df['Age'] > 80, 'AgeBand']=90"
   ]
  },
  {
   "cell_type": "code",
   "execution_count": 15,
   "metadata": {},
   "outputs": [],
   "source": [
    "sorted_list=sorted([int(AgeBand) for AgeBand in train_df['AgeBand'].unique()])\n",
    "dic_mark={str(AgeBand):str(AgeBand) for AgeBand in sorted_list}"
   ]
  },
  {
   "cell_type": "code",
   "execution_count": 16,
   "metadata": {},
   "outputs": [],
   "source": [
    "import plotly.graph_objects as go\n",
    "Sex_stat=train_df.groupby(by='Sex', as_index=False)['Survived'].sum()\n",
    "Cla_stat = train_df[train_df['Sex']=='female'].groupby(by='Pclass', as_index=False)['Survived'].sum()\n",
    "PieFig = go.Figure(go.Sunburst(\n",
    "        labels=[\"Global Cases\", \"Global Deaths\", \"Global Survived\",'Fmale','Male'],\n",
    "        parents=[\"\", \"Global Cases\", \"Global Cases\",\"Global Survived\",\"Global Survived\"],\n",
    "        values=[total_People, total_UnSurvived, total_Survived,Sex_stat['Survived'][0],Sex_stat['Survived'][1]],\n",
    "        branchvalues='total',\n",
    "        marker=dict(\n",
    "            colorscale='RdBu'),\n",
    "        hovertemplate='<b>%{label} </b> <br> Sales: %{value}<br> Success rate: %{color:.2f}'\n",
    "    \n",
    "        ))"
   ]
  },
  {
   "cell_type": "code",
   "execution_count": 17,
   "metadata": {},
   "outputs": [],
   "source": [
    "app = JupyterDash(external_stylesheets = ['https://codepen.io/chriddyp/pen/bWLwgP.css'])"
   ]
  },
  {
   "cell_type": "code",
   "execution_count": 25,
   "metadata": {},
   "outputs": [],
   "source": [
    "app.layout = html.Div([\n",
    "    html.Div([\n",
    "            html.Div([\n",
    "                html.H3(\"Titanic\", style={'textAlign': 'center',\"marginBottom\": \"0px\", 'color': 'white','fontSize': 40}),\n",
    "                html.H5(\"Titanic - Dashboard\", style={'textAlign': 'center',\"marginTop\": \"0px\", 'color': 'white'}),\n",
    "            ])\n",
    "        ], className=\"six column\", id=\"title\"),\n",
    "  \n",
    "    #################################################################################################################\n",
    "    html.Div([\n",
    "        html.Div([\n",
    "            html.H6(children='Global Cases',\n",
    "                    style={\n",
    "                        'textAlign': 'center',\n",
    "                        'color': 'white',\n",
    "                        'fontSize': 40 }\n",
    "                    ),\n",
    "\n",
    "            html.P(f\"{total_People:,.0f}\",\n",
    "                   style={\n",
    "                       'textAlign': 'center',\n",
    "                       'color': 'orange',\n",
    "                       'fontSize': 40}\n",
    "                   ),\n",
    "\n",
    "            ], className=\"card_container four columns\",\n",
    "            style={\"background\": \"#1f2c56\", \"margin\":16 , \"padding\":15\n",
    "                  ,\"boxShadow\": \"2px 2px 2px #1f2c56\"}\n",
    "        ),\n",
    "\n",
    "        html.Div([\n",
    "            html.H6(children='Global Deaths',\n",
    "                    style={\n",
    "                        'textAlign': 'center',\n",
    "                        'color': 'white',\n",
    "                        'fontSize':40}\n",
    "                    ),\n",
    "\n",
    "            html.P(f\"{total_UnSurvived:,.0f}\",\n",
    "                   style={\n",
    "                       'textAlign': 'center',\n",
    "                       'color': '#dd1e35',\n",
    "                       'fontSize': 40}\n",
    "                   ),\n",
    "\n",
    "            ], className=\"card_container four columns\",\n",
    "            style={\"background\": \"#1f2c56\", \"margin\":16 , \"padding\":15\n",
    "                  ,\"boxShadow\": \"2px 2px 2px #1f2c56\"}\n",
    "        ),\n",
    "        html.Div([\n",
    "            html.H6(children='Global Survived',\n",
    "                    style={\n",
    "                        'textAlign': 'center',\n",
    "                        'color': 'white',\n",
    "                        'fontSize':40 }\n",
    "                    ),\n",
    "\n",
    "            html.P(f\"{total_Survived:,.0f}\",\n",
    "                   style={\n",
    "                       'textAlign': 'center',\n",
    "                       'color': 'green',\n",
    "                       'fontSize': 40}\n",
    "                   ),\n",
    "\n",
    "            ], className=\"card_container four columns\"\n",
    "            ,style={\"background\": \"#1f2c56\", \"margin\":16 , \"padding\":15\n",
    "                  ,\"boxShadow\": \"2px 2px 2px #1f2c56\"}\n",
    "        )\n",
    "\n",
    "    ], className=\"row flexDisplay\"),\n",
    "    \n",
    "    ############################################################################################################\n",
    "     html.Div([\n",
    "         \n",
    "         html.Div(children=[\n",
    "             \n",
    "             dcc.Graph(id='ScatterGraph'),\n",
    "             html.Div([\n",
    "                 dcc.Slider(id='my-slider',min=train_df['Age'].min(),max=train_df['Age'].max(),\\\n",
    "                           marks=dic_mark,\\\n",
    "                            value=train_df['Age'].max())\n",
    "                 ],style={'marginTop':40})\n",
    "             \n",
    "         ],className=\"create_container six columns\"\n",
    "             ,style={\"background\": \"#1f2c56\", \"margin\":16 , \"padding\":15\n",
    "                  ,\"boxShadow\": \"2px 2px 2px #1f2c56\",'textAlign': 'center','color': 'white'}),\n",
    "         \n",
    "         html.Div([\n",
    "             \n",
    "             html.P('Select Survived Or Not:', className='fix_label',  style={'textAlign': 'center','color': 'white','marginBottom':10}),\n",
    "             dcc.Dropdown(\n",
    "                    id='drop_down_Sur',\n",
    "                    options=[\n",
    "                        {'label': 'Survived', 'value': 1 } ,\n",
    "                        { 'label': 'NotSurvived', 'value': 0}\n",
    "                    ],\n",
    "                    value=1,\n",
    "                    placeholder='choose Status...'),\n",
    "             \n",
    "             html.Div([dcc.Graph(id='AgeFig')],style={'marginTop':10})\n",
    "             \n",
    "         ],className=\"create_container six columns\"\n",
    "             ,style={\"background\": \"#1f2c56\", \"margin\":16 , \"padding\":15\n",
    "                  ,\"boxShadow\": \"2px 2px 2px #1f2c56\"}),\n",
    "         \n",
    "         \n",
    "     ], className=\"row flexDisplay\"),\n",
    "    \n",
    "    ############################################################################################################\n",
    "    \n",
    "     html.Div([\n",
    "         \n",
    "         html.Div([\n",
    "             \n",
    "             html.P('Classified By:', className='fix_label', style={'textAlign': 'center',\n",
    "                                                                             'color': 'white',\n",
    "                                                                             'marginBottom':10}),\n",
    "             dcc.Dropdown(\n",
    "                    id='drop_down_Class',\n",
    "                    options=[\n",
    "                        {'label': 'Pclass', 'value': 'Pclass' } ,\n",
    "                        { 'label': 'Gender', 'value': 'Sex'},\n",
    "                        { 'label': 'Embarked', 'value': 'Embarked'}\n",
    "                    ],\n",
    "                    value='Pclass',\n",
    "                    placeholder='choose Status...'),\n",
    "             \n",
    "             html.Div([dcc.Graph(id='ClassFig')],style={'marginTop':10})\n",
    "             \n",
    "         ],className=\"create_container six columns\"\n",
    "             ,style={\"background\": \"#1f2c56\", \"margin\":16 , \"padding\":15\n",
    "                  ,\"boxShadow\": \"2px 2px 2px #1f2c56\"}),\n",
    "         \n",
    "         html.Div([\n",
    "             \n",
    "             html.P('Select Survived Or Not:', className='fix_label',  style={'textAlign': 'center','color': 'white','marginBottom':10}),\n",
    "             dcc.Dropdown(\n",
    "                    id='drop_down_Sur1',\n",
    "                    options=[\n",
    "                        {'label': 'Survived', 'value': 1 } ,\n",
    "                        { 'label': 'NotSurvived', 'value': 0}\n",
    "                    ],\n",
    "                    value=1,\n",
    "                    placeholder='choose Status...'),\n",
    "             \n",
    "             html.Div([dcc.Graph(id='TitleFig')],style={'marginTop':10})\n",
    "             \n",
    "         ],className=\"create_container six columns\"\n",
    "             ,style={\"background\": \"#1f2c56\", \"margin\":16 , \"padding\":15\n",
    "                  ,\"boxShadow\": \"2px 2px 2px #1f2c56\"}),\n",
    "           \n",
    "         \n",
    "         \n",
    "     ], className=\"row flexDisplay\"),\n",
    "    html.Div([\n",
    "         html.H3('Global Information', className='fix_label', style={'textAlign': 'center',\n",
    "                                                                             'color': 'white',\n",
    "                                                                             'marginBottom':10}),\n",
    "        html.Div([dcc.Graph(figure=PieFig)],className=\"create_container five columns\",style={\"background\": \"#1f2c56\", \"margin\":16 , \"padding\":15\n",
    "                  ,\"boxShadow\": \"2px 2px 2px #1f2c56\",\"marginLeft\":500})\n",
    "        \n",
    "    ], className=\"row flexDisplay\")\n",
    "    \n",
    "    \n",
    "], id=\"mainContainer\",\n",
    "    style={\"display\": \"flex\", \"flexDirection\": \"column\" , \"background\": \"#192444\"})"
   ]
  },
  {
   "cell_type": "code",
   "execution_count": 19,
   "metadata": {},
   "outputs": [],
   "source": [
    "@app.callback(\n",
    "    Output('ScatterGraph', 'figure'),\n",
    "    Input('my-slider', 'value')\n",
    ")\n",
    "def update_My_Div(input_value1):\n",
    "    filter_1_df = train_df[train_df.Age<=input_value1]\n",
    "    fig = px.scatter(filter_1_df,x='Age',y='Fare',text='Pclass',color='Survived',size=filter_1_df['Pclass']*15,\\\n",
    "                     template='simple_white',title='Fare vs Age with Survivability and Pclass')\n",
    "    return fig"
   ]
  },
  {
   "cell_type": "code",
   "execution_count": 20,
   "metadata": {},
   "outputs": [],
   "source": [
    "@app.callback(\n",
    "    Output('AgeFig', 'figure'),\n",
    "    Input('drop_down_Sur', 'value')\n",
    ")\n",
    "def update_My_AgeDiv(input_value1):\n",
    "    filter_1_df = train_df[train_df['Survived']==input_value1]\n",
    "    fig=px.histogram(filter_1_df,x='Age',nbins=40,\\\n",
    "                         title='Age Distribution',histnorm='percent',template='simple_white')\n",
    "    return fig\n",
    "    "
   ]
  },
  {
   "cell_type": "code",
   "execution_count": 21,
   "metadata": {},
   "outputs": [],
   "source": [
    "title_dic = {'Pclass':'Survivability based on  Pclass','Sex':'Survived based on  Gender',\\\n",
    "                 'Embarked':'Survived based on  Embarked'}"
   ]
  },
  {
   "cell_type": "code",
   "execution_count": 22,
   "metadata": {},
   "outputs": [],
   "source": [
    "@app.callback(\n",
    "    Output('ClassFig', 'figure'),\n",
    "    Input('drop_down_Class', 'value')\n",
    ")\n",
    "def update_My_AgeDiv(input_value1):\n",
    "    numOfClass = train_df.groupby(by=input_value1, as_index=False)['Survived'].sum()\n",
    "    fig=px.bar(x=numOfClass[numOfClass.columns[0]],y=numOfClass[numOfClass.columns[1]],\n",
    "               color=numOfClass[input_value1],template='simple_white',title=title_dic[input_value1])\n",
    "    return fig"
   ]
  },
  {
   "cell_type": "code",
   "execution_count": 23,
   "metadata": {},
   "outputs": [],
   "source": [
    "@app.callback(\n",
    "    Output('TitleFig', 'figure'),\n",
    "    Input('drop_down_Sur1', 'value')\n",
    ")\n",
    "def update_My_titleDiv(input_value1):\n",
    "    filter_1_df = train_df[train_df['Survived']==input_value1]\n",
    "    fig=px.histogram(filter_1_df,x='Title',nbins=40,\\\n",
    "                         title='Title Distribution',histnorm='percent',template='simple_white')\n",
    "    return fig"
   ]
  },
  {
   "cell_type": "code",
   "execution_count": 26,
   "metadata": {},
   "outputs": [
    {
     "name": "stdout",
     "output_type": "stream",
     "text": [
      "Dash app running on http://127.0.0.1:8050/\n"
     ]
    }
   ],
   "source": [
    "app.run_server(debug=True)"
   ]
  },
  {
   "cell_type": "code",
   "execution_count": null,
   "metadata": {},
   "outputs": [],
   "source": []
  }
 ],
 "metadata": {
  "kernelspec": {
   "display_name": "Python 3",
   "language": "python",
   "name": "python3"
  },
  "language_info": {
   "codemirror_mode": {
    "name": "ipython",
    "version": 3
   },
   "file_extension": ".py",
   "mimetype": "text/x-python",
   "name": "python",
   "nbconvert_exporter": "python",
   "pygments_lexer": "ipython3",
   "version": "3.8.5"
  }
 },
 "nbformat": 4,
 "nbformat_minor": 5
}
